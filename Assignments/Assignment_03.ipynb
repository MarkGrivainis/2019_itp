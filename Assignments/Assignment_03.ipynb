{
 "cells": [
  {
   "cell_type": "markdown",
   "metadata": {},
   "source": [
    "# Introduction to Programming (Summer 2019)\n",
    "\n",
    "## Assignment 3 (Due date: 12 August 2019, by midnight)"
   ]
  },
  {
   "cell_type": "markdown",
   "metadata": {},
   "source": [
    "The goal of this assignment is to implement an algorithm.\n",
    "\n",
    "Here are some potential algorithms:\n",
    "+ How computers draw lines on the screen\n",
    "  - https://en.wikipedia.org/wiki/Bresenham%27s_line_algorithm \n",
    "  - https://en.wikipedia.org/wiki/Digital_differential_analyzer_(graphics_algorithm)\n",
    "+ Filling areas which have a border\n",
    "  - https://en.wikipedia.org/wiki/Flood_fill\n",
    "+ Shuffle the order of a list\n",
    "  - https://en.wikipedia.org/wiki/Fisher%E2%80%93Yates_shuffle\n",
    "+ Find the greatest common divisor between integers\n",
    "  - https://en.wikipedia.org/wiki/Euclidean_algorithm\n",
    "+ Find items in sorted lists quickly\n",
    "  - https://en.wikipedia.org/wiki/Binary_search_algorithm\n",
    "+ Maze generation, there are many algorithms which do this\n",
    "  - https://en.wikipedia.org/wiki/Maze_generation_algorithm (Some are more challenging than others)\n",
    "+ Local sequence alignment\n",
    "  - https://en.wikipedia.org/wiki/Smith%E2%80%93Waterman_algorithm (Challenging)\n",
    "+ Draw a border around specific values in a 2d grid\n",
    "  - https://en.wikipedia.org/wiki/Marching_squares (Very challenging)\n",
    "\n",
    "You can also choose any other algorithm which you find interesting.\n",
    "\n",
    "As the code for all of these algorithms is easy to find online you should also provide a description of how the algorithm works and what problem it solves."
   ]
  }
 ],
 "metadata": {
  "kernelspec": {
   "display_name": "Python 3",
   "language": "python",
   "name": "python3"
  },
  "language_info": {
   "codemirror_mode": {
    "name": "ipython",
    "version": 3
   },
   "file_extension": ".py",
   "mimetype": "text/x-python",
   "name": "python",
   "nbconvert_exporter": "python",
   "pygments_lexer": "ipython3",
   "version": "3.7.3"
  }
 },
 "nbformat": 4,
 "nbformat_minor": 2
}
