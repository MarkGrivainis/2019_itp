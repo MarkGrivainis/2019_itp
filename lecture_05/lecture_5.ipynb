{
 "cells": [
  {
   "cell_type": "markdown",
   "metadata": {},
   "source": [
    "# Introduction to Python - Lecture 05 (17 Oct 2018)\n",
    "\n",
    "### Recap\n",
    "\n",
    "+ Introduction to composite data types, a.k.a data structures (lists, dictionaries)\n",
    "\n",
    "\n",
    "### Agenda for today:\n",
    "- looping: **for loops** and **while loops**\n",
    "- **<font color='red'>Running programs in debug mode</font>** (for debugging and exploring dynamic code execution environment)\n",
    "- lots of examples covering core patterns of access"
   ]
  },
  {
   "cell_type": "markdown",
   "metadata": {},
   "source": [
    "# Iteration: Repetitively apply some logic\n",
    "### Common patterns:\n",
    "+ Do **something** to/for each item in a sequence (ex. random patient assignment)\n",
    "+ Repeat **something _n_** times (ex. snooze)\n",
    "+ Repeat **something** as long as some condition is True (or False) (ex. statistical model refinement)\n",
    "<br />  \n",
    "\n",
    "<font color='blue' size=5>_**for**_</font> compound statement is used to apply some logic to each item in any _**iterable**_ (string, list, dictionaries etc.)\n",
    "<br />\n",
    "+ Basic structure:  \n",
    "```python\n",
    "    for item in iterable:  \n",
    "        <do_action(s)>\n",
    "```\n",
    "For ex.:\n",
    "```python\n",
    "    for gene in list_of_genes:\n",
    "        translate(gene)\n",
    "```\n",
    "+ Use **indentation** to delineate from rest of the code"
   ]
  },
  {
   "cell_type": "markdown",
   "metadata": {},
   "source": [
    "# <font color='blue'>*for* loop pattern 1</font>: Sequence scans\n",
    "\n",
    "+ Ex. Simple list traversal\n",
    "```python\n",
    "    vowels = ['a', 'e', 'i', 'o', 'u']\n",
    "    for vowel in vowels:\n",
    "        print(vowel)\n",
    "```"
   ]
  },
  {
   "cell_type": "code",
   "execution_count": null,
   "metadata": {},
   "outputs": [],
   "source": []
  },
  {
   "cell_type": "markdown",
   "metadata": {},
   "source": [
    "### Lets complete the steps of the above for loop manually\n",
    "```python\n",
    "vowels = ['a', 'e', 'i', 'o', 'u']\n",
    "vowel = vowels[0]\n",
    "print(vowel)\n",
    "vowel = vowels[1]\n",
    "print(vowel)\n",
    "vowel = vowels[2]\n",
    "print(vowel)\n",
    "vowel = vowels[3]\n",
    "print(vowel)\n",
    "vowel = vowels[4]\n",
    "print(vowel)\n",
    "```"
   ]
  },
  {
   "cell_type": "code",
   "execution_count": null,
   "metadata": {},
   "outputs": [],
   "source": []
  },
  {
   "cell_type": "markdown",
   "metadata": {},
   "source": [
    "+ Ex: Find sum and prod of a list of numbers\n",
    "```python\n",
    "    num_list = [1,2,3,4]\n",
    "```"
   ]
  },
  {
   "cell_type": "markdown",
   "metadata": {},
   "source": [
    "# General process of loop construction\n",
    "+ <font color='blue'>_**Initialize**_</font> some variable(s) before the loop starts.\n",
    "+ <font color='blue'>_**Apply**_</font> some computation(s) for each item in the loop body, possibly changing the variables.\n",
    "+ <font color='blue'>_**Use**_</font> the results after the loop terminates.\n",
    "```python\n",
    "import math\n",
    "num_list = [1,2,3,4]          # Input\n",
    "sum_ = 0                      # Initialize\n",
    "prod = 1                     \n",
    "for num in num_list:          # Apply\n",
    "    sum_ = sum_ + num\n",
    "\tprod *= num                 # shorthand notation\n",
    "print(\"sum: \", sum_)          # Use\n",
    "print(\"prod: \", prod)\n",
    "print(\"AM: \", sum_/len(num_list))\n",
    "print(\"GM: \", math.pow(prod_, 1/len(num_list))\n",
    "```\n",
    "\n",
    "**Notes**:\n",
    "- num is called **iteration variable**\n",
    "- sum and prod are called **accumulator variables**"
   ]
  },
  {
   "cell_type": "code",
   "execution_count": null,
   "metadata": {},
   "outputs": [],
   "source": []
  },
  {
   "cell_type": "markdown",
   "metadata": {},
   "source": [
    "## Trace of a computation\n",
    "\n",
    "```\n",
    "------------------------------  \n",
    "  __________________\n",
    " | num  |sum_| prod |\n",
    " |______|____|______|\n",
    " |  _   | 0  |  1   | <-- Initialize\n",
    " |______|____|______|\n",
    " |  1   | 1  |  1   | <-- for loop begins\n",
    " |______|____|______|\n",
    " |  2   | 3  |  2   | \n",
    " |______|____|______|\n",
    " |  3   | 6  |  6   |\n",
    " |______|____|______|\n",
    " |  4   | 10 |  24  | <-- for loop ends\n",
    " |______|____|______|\n",
    "------------------------------\n",
    "\n",
    "```"
   ]
  },
  {
   "cell_type": "markdown",
   "metadata": {},
   "source": [
    "# <font color='blue'>*for* loop pattern 2</font>: range function\n",
    "+ Greater flexibility - access elements by index and reference rather in stead of direct access\n",
    "\n",
    "```\n",
    "------------------------------\n",
    "  ___________________________\n",
    " | Index| 0  | 1  | 2  | 3  |\n",
    " |______|____|___ |____|___ |\n",
    " | Data | 5  | 10 | 15 | 20 |\n",
    " |______|____|____|____|____|\n",
    "------------------------------\n",
    "\n",
    "```\n",
    "\n",
    "+ Built-in **range()** function returns a range object\n",
    "```python\n",
    "x = range(10)\n",
    "type(x)\n",
    "```\n",
    "\n",
    "- Lazy object\n",
    "- use list(x) to force-build the entire range"
   ]
  },
  {
   "cell_type": "code",
   "execution_count": null,
   "metadata": {},
   "outputs": [],
   "source": [
    "x = range(0, 10, 3)\n",
    "print(list(x))"
   ]
  },
  {
   "cell_type": "code",
   "execution_count": null,
   "metadata": {},
   "outputs": [],
   "source": [
    "x = ['a','b','c']\n",
    "\n",
    "for idx in range(len(x)):\n",
    "    print(idx, x[idx])"
   ]
  },
  {
   "cell_type": "markdown",
   "metadata": {},
   "source": [
    "```python\n",
    "# dot product of 2 vectors\n",
    "vector_1 = [1, 2, 3, 4]\n",
    "vector_2 = [5, 6, 7, 8]\n",
    "dot = 0.0\n",
    "for idx in range(len(vector_1)):\n",
    "    dot += vector_1[idx]*vector_2[idx]\n",
    "print(\"dot product of {} and {} is: {}\".format(vector_1, vector_2, dot))\n",
    "```"
   ]
  },
  {
   "cell_type": "code",
   "execution_count": null,
   "metadata": {},
   "outputs": [],
   "source": []
  },
  {
   "cell_type": "markdown",
   "metadata": {},
   "source": [
    "+ **Ex: build a list incrementally**\n",
    "\n",
    "+ Fibonacci numbers:\n",
    "    - 1, 1, 2, 3, 5, 8, 13, 21, ...\n",
    "    - F$_1$ = F$_2$=1\n",
    "    - F$_n$ = F$_n$$_-$$_1$ + F$_n$$_-$$_2$\n",
    "\n",
    "```python\n",
    "# Fibonacci\n",
    "n = 10\n",
    "z = [1]*2\t\t\t            \n",
    "for idx in range(2, n):\n",
    "    next = z[idx-1] + z[idx-2]    # Note: next is not a good variable name since it is a built-in function.\n",
    "                                  # Using it as a variable will mask the function\n",
    "    z.append(next)\n",
    "print(z)\n",
    "```\n"
   ]
  },
  {
   "cell_type": "code",
   "execution_count": null,
   "metadata": {},
   "outputs": [],
   "source": [
    "           "
   ]
  },
  {
   "cell_type": "markdown",
   "metadata": {},
   "source": [
    "# Use built-in functionality as much as possible\n",
    "+ Less code\n",
    "+ More efficient\n",
    "\n",
    "\n",
    "```python\n",
    "# DIY\n",
    "num_list = [1,2,3,4]\n",
    "sum_ = 0\n",
    "for num in num_list:\n",
    "\tsum_ = sum_ + num\n",
    "print(“avg: ”, sum_/len(num_list))\n",
    "\n",
    "# built-in tools\n",
    "avg = sum(num_list)/len(num_list)\n",
    "```"
   ]
  },
  {
   "cell_type": "code",
   "execution_count": null,
   "metadata": {},
   "outputs": [],
   "source": []
  },
  {
   "cell_type": "markdown",
   "metadata": {},
   "source": [
    "## Nested Loops\n",
    "\n",
    "Putting a loop inside another loop.\n",
    "\n",
    "```python\n",
    "for j in range(5):\n",
    "    print('j: {}'.format(j))\n",
    "    for i in range(2):\n",
    "        print('\\ti: {}'.format(i))\n",
    "```\n",
    "\n",
    "The inner loop will be repeated for each iteration of the outer loop.\n",
    "\n",
    "You can calculate the number of times print will be called.\n",
    "+ Five times in the outer loop\n",
    "+ The inner loop is called 5 times\n",
    "  + Twice for each inner iteration\n",
    "+ The total number of prints: outer + inner * outer = 5 + 10 = 15"
   ]
  },
  {
   "cell_type": "code",
   "execution_count": 5,
   "metadata": {},
   "outputs": [
    {
     "name": "stdout",
     "output_type": "stream",
     "text": [
      "j: 0\n",
      "\ti: 0\n",
      "\ti: 1\n",
      "j: 1\n",
      "\ti: 0\n",
      "\ti: 1\n",
      "j: 2\n",
      "\ti: 0\n",
      "\ti: 1\n",
      "j: 3\n",
      "\ti: 0\n",
      "\ti: 1\n",
      "j: 4\n",
      "\ti: 0\n",
      "\ti: 1\n"
     ]
    }
   ],
   "source": [
    "for j in range(5):\n",
    "    print('j: {}'.format(j))\n",
    "    for i in range(2):\n",
    "        print('\\ti: {}'.format(i))"
   ]
  },
  {
   "cell_type": "markdown",
   "metadata": {},
   "source": [
    "#### Bubble Sort\n",
    "\n",
    "Pseudocode:\n",
    "```\n",
    "A: List of unsorted numbers\n",
    "n = length of A\n",
    "for j = 0 to n - 1\n",
    "  for i = 0 to n - 1\n",
    "    if  A[i + 1] < A[i]:\n",
    "      swap A[i + 1] and A[i]\n",
    "```\n",
    "\n",
    "About the bubble sort algorithm:\n",
    "+ It is one of the simplest sorting algorithms\n",
    "+ It is highly inefficient | **O(n<sup>2</sup>)**\n",
    "  + The O() is called Big O notation\n",
    "  + This is a measure of an algorithms worst case performance\n",
    "    + **O(1)** Constant Time: Number of elements does not change performance\n",
    "    + **O(log<sub>n</sub>)** Log Time: The algorithm never looks at all of the elements\n",
    "    + **O(n)** N time: The algorithm will look at each element once in the worst case \n",
    "    + ...\n",
    "    + **O(2<sup>n</sup>)** Exponential Time: You never want an algorithm with performance like this\n",
    "  + In this case, **O(n<sup>2</sup>)**, the algorithm will evaluate each number twice]\n",
    "  + This is due to the nested loops both iterating **n - 1** times\n",
    "+ This is called a destructive sort as the original list is sorted and the order before sorting is lost\n"
   ]
  },
  {
   "cell_type": "code",
   "execution_count": null,
   "metadata": {},
   "outputs": [],
   "source": [
    "import random\n",
    "# this selects 5 random numbers between 0 and 49\n",
    "number_list = random.sample(range(50), 15)\n",
    "print(number_list)"
   ]
  },
  {
   "cell_type": "code",
   "execution_count": null,
   "metadata": {},
   "outputs": [],
   "source": [
    "import random\n",
    "\n",
    "# Bubble Sort\n",
    "\n",
    "number_list = random.sample(range(50), 25)\n",
    "n = len(number_list)\n",
    "\n",
    "for j in range(n - 1):\n",
    "    for i in range(n - 1):\n",
    "        if number_list[i + 1] < number_list[i]:\n",
    "            tmp = number_list[i + 1]\n",
    "            number_list[i + 1] = number_list[i]\n",
    "            number_list [i] = tmp\n",
    "print(number_list)"
   ]
  },
  {
   "cell_type": "code",
   "execution_count": null,
   "metadata": {},
   "outputs": [],
   "source": [
    "import random\n",
    "\n",
    "def print_list(lst, row_idx, char):\n",
    "    result = ''\n",
    "    for idx, element in enumerate(lst):\n",
    "        result += '{:>3}  '.format(element)\n",
    "        if idx == row_idx:\n",
    "            result = result[:-2] + ' {}'.format(char)\n",
    "    print(' '*12, result)\n",
    "\n",
    "# Bubble Sort\n",
    "\n",
    "# number_list = random.sample(range(50), 5)\n",
    "number_list = [5, 4, 3, 2, 1]\n",
    "n = len(number_list)\n",
    "\n",
    "for j in range(n):\n",
    "    print('iteration{}'.format(j))\n",
    "    for i in range(n - 1):\n",
    "        if number_list[i + 1] < number_list[i]:\n",
    "            print_list(number_list, i, '↔')\n",
    "            tmp = number_list[i + 1]\n",
    "            number_list[i + 1] = number_list[i]\n",
    "            number_list [i] = tmp\n",
    "        else:\n",
    "            print_list(number_list, i, '<')\n",
    "            \n",
    "print('sorted:', number_list)"
   ]
  },
  {
   "cell_type": "markdown",
   "metadata": {},
   "source": [
    "### Practice"
   ]
  },
  {
   "cell_type": "code",
   "execution_count": null,
   "metadata": {},
   "outputs": [],
   "source": [
    "# Given a number 'n', build a string with that number of * characters in it and print it\n",
    "\n",
    "# EG:\n",
    "#    'n'   = 5\n",
    "#   result = '*****'\n",
    "\n",
    "# Psuedocode:\n",
    "# 1. get the number 'n' from the user (Assume that it will always be an int)\n",
    "# 2. create a variable to hold the result\n",
    "# 3. iterate 'n' times\n",
    "# 4.    add '*' to result\n",
    "# 5. print the result\n",
    "\n",
    "n = 5"
   ]
  },
  {
   "cell_type": "code",
   "execution_count": null,
   "metadata": {},
   "outputs": [],
   "source": [
    "# Given a number 'n', build a string using the index instead of the * characters\n",
    "\n",
    "# EG:\n",
    "#    'n'   = 5\n",
    "#   result = '01234'\n",
    "\n",
    "# Psuedocode:\n",
    "# 1. get the number 'n' from the user (Assume that it will always be an int)\n",
    "# 2. create a variable to hold the result\n",
    "# 3. iterate 'n' times\n",
    "# 4.    add index to result\n",
    "# 5. print the result\n",
    "\n",
    "n = 5"
   ]
  },
  {
   "cell_type": "code",
   "execution_count": null,
   "metadata": {},
   "outputs": [],
   "source": [
    "# Given a number 'n', create a n X n square of * characters\n",
    "\n",
    "# EG:\n",
    "#    'n'   | 5\n",
    "#   result | *****\n",
    "#          | *****\n",
    "#          | *****\n",
    "#          | *****\n",
    "#          | *****\n",
    "    \n",
    "\n",
    "# Psuedocode:\n",
    "# 1. get the number 'n' from the user (Assume that it will always be an int)\n",
    "# 2. iterate n times, once for each row\n",
    "# 3.   create a variable to hold the result for that row\n",
    "# 4.   iterate 'n' times, once for each column in the row\n",
    "# 5.     add '*' to result\n",
    "# 6.   print the result for that row\n",
    "\n",
    "n = 5"
   ]
  },
  {
   "cell_type": "code",
   "execution_count": null,
   "metadata": {},
   "outputs": [],
   "source": [
    "# Given a number 'n', create a n X n square of int characters representing the row\n",
    "\n",
    "# EG:\n",
    "#    'n'   | 5\n",
    "#   result | 00000\n",
    "#          | 11111\n",
    "#          | 22222\n",
    "#          | 33333\n",
    "#          | 44444\n",
    "    \n",
    "\n",
    "# Psuedocode:\n",
    "# 1. get the number 'n' from the user (Assume that it will always be an int)\n",
    "# 2. iterate n times, once for each row\n",
    "# 3.   create a variable to hold the result for that row\n",
    "# 4.   iterate 'n' times, once for each column in the row\n",
    "# 5.     add row_index to result\n",
    "# 6.   print the result for that row\n",
    "\n",
    "n = 5"
   ]
  },
  {
   "cell_type": "code",
   "execution_count": null,
   "metadata": {},
   "outputs": [],
   "source": [
    "# Given a number 'n', create a n X n square of int characters representing the column\n",
    "\n",
    "# EG:\n",
    "#    'n'   | 5\n",
    "#   result | 01234\n",
    "#          | 01234\n",
    "#          | 01234\n",
    "#          | 01234\n",
    "#          | 01234\n",
    "    \n",
    "\n",
    "# Psuedocode:\n",
    "# 1. get the number 'n' from the user (Assume that it will always be an int)\n",
    "# 2. iterate n times, once for each row\n",
    "# 3.   create a variable to hold the result for that row\n",
    "# 4.   iterate 'n' times, once for each column in the row\n",
    "# 5.     add col_index to result\n",
    "# 6.   print the result for that row\n",
    "\n",
    "n = 5"
   ]
  },
  {
   "cell_type": "code",
   "execution_count": null,
   "metadata": {},
   "outputs": [],
   "source": [
    "# Given a number 'n', create a n X n square of int characters representing the cumulative total\n",
    "\n",
    "# It helps to use formatting for this example as the numbers are not all going to be a single character\n",
    "\n",
    "# '{:>3}'.format(int) will pad the integer with blank spaces so that the total length is 3 in this case\n",
    "    # '  1' : single characters will have two blank spaces in front\n",
    "    # ' 12' : double characters will have a single blank space\n",
    "    # '132' : triple characters will have no blank spaces\n",
    "    \n",
    "    # the direction of the 'arrow' indicates which side to align the characters\n",
    "    # > : align to the right\n",
    "    # ^ : align to the center\n",
    "    # < : align to the right\n",
    "    \n",
    "    # We will cover this in more detail in a few lectures time\n",
    "\n",
    "# EG:\n",
    "#    'n'   | 5\n",
    "#   result |  0  1  2  3  4\n",
    "#          |  5  6  7  8  9\n",
    "#          | 10 11 12 13 14\n",
    "#          | 15 16 17 18 19\n",
    "#          | 20 21 22 23 24\n",
    "    \n",
    "\n",
    "# Psuedocode:\n",
    "# 1. get the number 'n' from the user (Assume that it will always be an int)\n",
    "# 2. iterate n times, once for each row\n",
    "# 3.   create a variable to hold the result for that row\n",
    "# 4.   iterate 'n' times, once for each column in the row\n",
    "# 5.     add row_index * n + col_index to result\n",
    "# 6.   print the result for that row\n",
    "\n",
    "n = 5"
   ]
  },
  {
   "cell_type": "markdown",
   "metadata": {},
   "source": [
    "### Example\n",
    "Common pattern: **Aggregate** and **summarize**\n",
    "+ Say, we have a long list of numbers\n",
    "+ [0,1,1,3,1,3,6,1,8,2,8,7,5,0,2,2,1,5,4,7,0,0,3,1,2,9,9,4,3,2,5,3,1,2,1,3,3,2,2,4,5,1,6,7,9,8,1,4,2,5,6,8,0,0,0,1,1,2,6,1,3,2,4,2,5,7,3,1,3,4,6]\n",
    "+ Count the number of times each number appears (and may be rank-order them according to frequency)\n",
    "+ Thought Process?"
   ]
  },
  {
   "cell_type": "code",
   "execution_count": null,
   "metadata": {},
   "outputs": [],
   "source": [
    "import pprint\n",
    "\n",
    "numbers = [0,1,1,3,1,3,6,1,8,2,8,7,5,0,2,2,1,5,4,7,0,0,3,1,2,9,9,4,3,2,5,3,1,2,\n",
    "           1,3,3,2,2,4,5,1,6,7,9,8,1,4,2,5,6,8,0,0,0,1,1,2,6,1,3,2,4,2,5,7,3,1,3,4,6]\n",
    "\n",
    "counts = {}\n",
    "for num in numbers:\n",
    "    if num in counts:\n",
    "        counts[num] = counts[num] + 1    # counts[num] += 1\n",
    "    else:\n",
    "        counts[num] = 1\n",
    "pprint.pprint(counts)"
   ]
  },
  {
   "cell_type": "code",
   "execution_count": null,
   "metadata": {},
   "outputs": [],
   "source": [
    "import pprint\n",
    "\n",
    "numbers = [0,1,1,3,1,3,6,1,8,2,8,7,5,0,2,2,1,5,4,7,0,0,3,1,2,9,9,4,3,2,5,3,1,2,\n",
    "           1,3,3,2,2,4,5,1,6,7,9,8,1,4,2,5,6,8,0,0,0,1,1,2,6,1,3,2,4,2,5,7,3,1,3,4,6]\n",
    "\n",
    "counts = {}\n",
    "for num in numbers:\n",
    "    counts[num] = counts.get(num, 0) + 1"
   ]
  },
  {
   "cell_type": "code",
   "execution_count": null,
   "metadata": {},
   "outputs": [],
   "source": [
    "from collections import defaultdict\n",
    "\n",
    "counts = defaultdict(int)\n",
    "for num in numbers:\n",
    "    counts[num] = counts[num] + 1\n",
    "print(counts)"
   ]
  },
  {
   "cell_type": "code",
   "execution_count": null,
   "metadata": {},
   "outputs": [],
   "source": [
    "x = defaultdict(int)\n",
    "print(x)\n",
    "print(x[1])\n",
    "print(x)"
   ]
  },
  {
   "cell_type": "code",
   "execution_count": null,
   "metadata": {},
   "outputs": [],
   "source": [
    "from collections import Counter\n",
    "\n",
    "counts = Counter(numbers)\n",
    "print(counts)"
   ]
  },
  {
   "cell_type": "markdown",
   "metadata": {},
   "source": [
    "### Example\n",
    "Common pattern: **Aggregate** (similar to, but slightly more involved than the above example)\n",
    "+ Genetic code gives us mapping from nucleotide triplets (64 in number) to amino acids (20 in number). So some redundancy.\n",
    "```python\n",
    "import pprint\n",
    "gen_code = {'uuu': 'Phe', 'uuc': 'Phe', 'uua': 'Leu', 'uug': 'Leu', \n",
    "             'ucu': 'Ser', 'ucc': 'Ser', 'uca': 'Ser', 'ucg': 'Ser', \n",
    "             'uau': 'Tyr', 'uac': 'Tyr', 'uaa': 'Stop', 'uag': 'Stop',\n",
    "             'ugu': 'Cys', 'ugc': 'Cys', 'uga': 'Stop', 'ugg': 'Trp',\n",
    "             'cuu': 'Leu', 'cuc': 'Leu', 'cua': 'Leu', 'cug': 'Leu', \n",
    "             'ccu': 'Pro', 'ccc': 'Pro', 'cca': 'Pro', 'ccg': 'Pro',\n",
    "             'cau': 'His', 'cac': 'His', 'caa': 'Gln', 'cag': 'Gln', \n",
    "             'cgu': 'Arg', 'cgc': 'Arg', 'cga': 'Arg', 'cgg': 'Arg'}\n",
    "pprint.pprint(gen_code)\n",
    "```\n",
    "\n",
    "+ What if we want to know what triplets code for phe?\n",
    "    - one solution: iterate through genetic code dict for each query and assemble results (redundant computations)\n",
    "    - better solution: pre-compute the desired results (mapping from amino acid to nucleotide triplets)\n",
    "+ Thought Process?"
   ]
  },
  {
   "cell_type": "code",
   "execution_count": null,
   "metadata": {},
   "outputs": [],
   "source": [
    "import pprint\n",
    "gen_code = {'uuu': 'Phe', 'uuc': 'Phe', 'uua': 'Leu', 'uug': 'Leu', \n",
    "           'ucu': 'Ser', 'ucc': 'Ser', 'uca': 'Ser', 'ucg': 'Ser', \n",
    "           'uau': 'Tyr', 'uac': 'Tyr', 'uaa': 'Stop', 'uag': 'Stop',\n",
    "           'ugu': 'Cys', 'ugc': 'Cys', 'uga': 'Stop', 'ugg': 'Trp',\n",
    "           'cuu': 'Leu', 'cuc': 'Leu', 'cua': 'Leu', 'cug': 'Leu', \n",
    "           'ccu': 'Pro', 'ccc': 'Pro', 'cca': 'Pro', 'ccg': 'Pro',\n",
    "           'cau': 'His', 'cac': 'His', 'caa': 'Gln', 'cag': 'Gln', \n",
    "           'cgu': 'Arg', 'cgc': 'Arg', 'cga': 'Arg', 'cgg': 'Arg'}\n",
    "# pprint.pprint(gen_code)\n",
    "\n",
    "aa_codon_map = {}\n",
    "for codon, aa in gen_code.items():\n",
    "    if aa in aa_codon_map:\n",
    "        aa_codon_map[aa].append(codon)\n",
    "    else:\n",
    "        aa_codon_map[aa] = [codon]\n",
    "        \n",
    "pprint.pprint(aa_codon_map)\n",
    "    \n",
    "    "
   ]
  },
  {
   "cell_type": "code",
   "execution_count": null,
   "metadata": {},
   "outputs": [],
   "source": [
    "import pprint\n",
    "from collections import defaultdict\n",
    "\n",
    "gen_code = {'uuu': 'Phe', 'uuc': 'Phe', 'uua': 'Leu', 'uug': 'Leu', \n",
    "           'ucu': 'Ser', 'ucc': 'Ser', 'uca': 'Ser', 'ucg': 'Ser', \n",
    "           'uau': 'Tyr', 'uac': 'Tyr', 'uaa': 'Stop', 'uag': 'Stop',\n",
    "           'ugu': 'Cys', 'ugc': 'Cys', 'uga': 'Stop', 'ugg': 'Trp',\n",
    "           'cuu': 'Leu', 'cuc': 'Leu', 'cua': 'Leu', 'cug': 'Leu', \n",
    "           'ccu': 'Pro', 'ccc': 'Pro', 'cca': 'Pro', 'ccg': 'Pro',\n",
    "           'cau': 'His', 'cac': 'His', 'caa': 'Gln', 'cag': 'Gln', \n",
    "           'cgu': 'Arg', 'cgc': 'Arg', 'cga': 'Arg', 'cgg': 'Arg'}\n",
    "# pprint.pprint(gen_code)\n",
    "\n",
    "aa_codon_map = defaultdict(list)\n",
    "for codon, aa in gen_code.items():\n",
    "    aa_codon_map[aa].append(codon)"
   ]
  },
  {
   "cell_type": "code",
   "execution_count": null,
   "metadata": {},
   "outputs": [],
   "source": [
    "x = defaultdict(list)\n",
    "print(x)\n",
    "x['a'].append(10)\n",
    "print(x)\n",
    "x['a'].append(20)\n",
    "print(x)"
   ]
  },
  {
   "cell_type": "markdown",
   "metadata": {},
   "source": [
    "## Control Flow (<font color='blue'>Demonstrate in debug mode</font>)\n",
    "### *<font color='blue'>break</font>* keyword\n",
    "+ to **stop** the current loop from running any further (**break out of the loop**)\n",
    "\n",
    "```python\n",
    "print('\\nbreak statement')\n",
    "numbers = [1, 3, 5, 6, 9, 10]\n",
    "for number in numbers:\n",
    "    if number % 2 == 0:\n",
    "        break\n",
    "    print(number)\n",
    "```\n",
    "\n",
    "### *<font color='blue'>continue</font>* keyword\n",
    "+ to **skip** over the current iteration in current loop (**continue without completing current iteration**)\n",
    "\n",
    "```python\n",
    "print('\\ncontinue statement')\n",
    "numbers = [1, 3, 5, 6, 9, 10]\n",
    "for number in numbers:\n",
    "    if number % 2 == 0:\n",
    "        continue\n",
    "    print(number)\n",
    "```"
   ]
  },
  {
   "cell_type": "code",
   "execution_count": null,
   "metadata": {},
   "outputs": [],
   "source": [
    "print('\\nbreak statement')\n",
    "numbers = [1, 3, 5, 6, 9, 10]\n",
    "for number in numbers:\n",
    "    if number % 2 == 0:\n",
    "        continue\n",
    "    print(number)"
   ]
  },
  {
   "cell_type": "markdown",
   "metadata": {},
   "source": [
    "### *<font color='blue'>break</font>* keyword and *<font color='blue'>continue</font>* keyword statements operate on the immediate enclosing for loop\n",
    "\n",
    "```python\n",
    "# Generate all possible pairs, but skip some of them\n",
    "print('\\nbreak statement')\n",
    "letters = ['a', 'b', 'c']\n",
    "numbers = [5, 7, 9, 10, 15]\n",
    "for char in letters:            # outer loop\n",
    "   for number in numbers:       # inner loop; enumerate gives (index, value) tuples (see help)\n",
    "       if number % 2 == 0:\n",
    "           break\n",
    "       print(char, number)\n",
    "\n",
    "###########################\n",
    "\n",
    "print('\\ncontinue statement')\n",
    "letters = ['a', 'b', 'c']\n",
    "numbers = [5, 7, 9, 10, 15]\n",
    "for char in letters:\n",
    "   for number in numbers:\n",
    "       if number % 2 == 0:\n",
    "           continue\n",
    "       print(char, number)\n",
    "```"
   ]
  },
  {
   "cell_type": "code",
   "execution_count": null,
   "metadata": {},
   "outputs": [],
   "source": [
    "print('\\nbreak statement')\n",
    "letters = ['a', 'b', 'c']\n",
    "numbers = [5, 7, 9, 10, 15]\n",
    "for char in letters:\n",
    "    for number in numbers:\n",
    "        if number % 2 == 0:\n",
    "            continue\n",
    "        print(char, number)\n",
    "        "
   ]
  },
  {
   "cell_type": "markdown",
   "metadata": {},
   "source": [
    "### Example (write in Atom, run on cmd-line / Terminal)\n",
    "\n",
    "+ A protein sequence is represented as a string of characters. Each character corresponds to an amino-acid (AA) molecule with a specific mass. There are 20 possible characters, one for each naturally occurring AA, and anything outside of this 20-letter alphabet is considered invalid.\n",
    "```python\n",
    "# mass(A) = 71.03711360\n",
    "# mass(C) = 103.0091854\n",
    "# mass(D) = 115.0269428\n",
    "# mass(E) = 129.0425928\n",
    "# mass(F) = 147.0684136\n",
    "# mass(G) = 57.02146360\n",
    "# mass(H) = 137.0589116\n",
    "# mass(I) = 113.0840636\n",
    "# mass(K) = 128.0949626\n",
    "# mass(L) = 113.0840636\n",
    "# mass(M) = 131.0404854\n",
    "# mass(N) = 114.0429272\n",
    "# mass(P) = 97.05276360\n",
    "# mass(Q) = 128.0585772\n",
    "# mass(R) = 156.1011106\n",
    "# mass(S) = 87.03202820\n",
    "# mass(T) = 101.0476782\n",
    "# mass(V) = 99.06841360\n",
    "# mass(W) = 186.0793126\n",
    "# mass(Y) = 163.0633282\n",
    "```\n",
    "+ We have a list of protein dictionaries, with each dictionary storing a protein sequence and its charge state (integer). Our goal is to calculate the ratio of mass to charge (m/z) of all the protein sequences in the list and print the results. \n",
    "\n",
    "```python\n",
    "# Examples of valid protein sequences: ACDEFPMNQR, acdefpmnqr\n",
    "# Example of invalid protein sequence: ACZEFP ('Z' is not a valid AA)\n",
    "# mass(ACDEFPMNQR) = mass(h2o) + (sum of masses of all AA characters in ACDEFPMNQR)\n",
    "# m/z of ACDEFPMNQR can be calculated as: mass(ACDEFPMNQR)/ch(ACDEFPMNQR); \n",
    "# ch is provided for each sequence\n",
    "\n",
    "\n",
    "list_of_protein_dicts = [{'seq': 'ACACIMED', 'ch': 2},\n",
    "                         {'seq': 'ELEMYRATNE', 'ch': 1},\n",
    "                         {'seq': 'wapwop', 'ch': 3},\n",
    "                         {'seq': 'zeittsieg', 'ch': 2},\n",
    "                         {'seq': 'DESFBIRC', 'ch': 1},\n",
    "                         {'seq': 'altaatsiv', 'ch': 3},\n",
    "                         {'seq': 'MEINWOHC', 'ch': 2}]\n",
    "```\n",
    "\n",
    "+ **What do we need?:**\n",
    "    - Represent masses in an appropriate data structure.\n",
    "    - For each sequence\n",
    "        - check for validity of the sequence\n",
    "        - if valid, compute m/z, then print the sequence and its m/z. \n",
    "        - Otherwise, print the sequence and an error message (like “Invalid”)."
   ]
  },
  {
   "cell_type": "code",
   "execution_count": null,
   "metadata": {},
   "outputs": [],
   "source": []
  },
  {
   "cell_type": "markdown",
   "metadata": {},
   "source": [
    "# <font color='blue'>While loops</font>\n",
    "\n",
    "+ Basic format:\n",
    "```python\n",
    "while BOOLEAN_EXPRESSION:\n",
    "    STATEMENTS\n",
    "```\n",
    "\n",
    "+ The loop will continue while the boolean expression remains true.\n",
    "+ Once the boolean expression is false the loop will exit\n",
    "\n",
    "```python\n",
    "count = 0\n",
    "while count < 5:\n",
    "    print('current count: {}'.format(count))\n",
    "    count += 1\n",
    "print('final count: {}'.format(count))\n",
    "```"
   ]
  },
  {
   "cell_type": "code",
   "execution_count": null,
   "metadata": {},
   "outputs": [],
   "source": [
    "count = 0\n",
    "while count < 5:\n",
    "    print('current count: {}'.format(count))\n",
    "    count += 1\n",
    "print('final count: {}'.format(count))"
   ]
  },
  {
   "cell_type": "markdown",
   "metadata": {},
   "source": [
    "## Why have two kinds of looping?\n",
    "\n",
    "+ for loops\n",
    "    + require knowledge on the number of iterations when declaring the loop\n",
    "+ while loops\n",
    "    + Will loop until a condition is met\n",
    "    \n",
    "Example:\n",
    "\n",
    "+ Find the largest number in a list of numbers?\n",
    "    + for loop\n",
    "+ Run a simulation until a certain mean squared error is achieved\n",
    "    + while loop"
   ]
  },
  {
   "cell_type": "markdown",
   "metadata": {},
   "source": [
    "## Infinite loops\n",
    "\n",
    "+ It is possible to create while loops that will never stop.\n",
    "    + These types of loops are known as infinite loops\n",
    "    + This happens only if the loop condition always remain true<br>  \n",
    "**Note:** when on cmd-line / Terminal, use Ctrl+C to break out of an infinite loop to stop the program. In jupyter notebook, use the square \"stop\" button on top to stop execution of a running cell.\n",
    "\n",
    "```python\n",
    "i = 0\n",
    "while i < 5:\n",
    "    print(i)\n",
    "```"
   ]
  },
  {
   "cell_type": "code",
   "execution_count": null,
   "metadata": {},
   "outputs": [],
   "source": [
    "i = 0\n",
    "while i < 5:\n",
    "    print(i)"
   ]
  },
  {
   "cell_type": "markdown",
   "metadata": {},
   "source": [
    "## While True\n",
    "\n",
    "+ This pattern is useful as it will ensure that the code in the while loop is run at least once\n",
    "+ There will always need to be a condition to break out of the loop\n",
    "\n",
    "**Pattern:**\n",
    "\n",
    "```python\n",
    "while True:\n",
    "    statements\n",
    "    if condition:\n",
    "        break\n",
    "```\n",
    "\n",
    "+ This is useful, for example, for getting user input when you do not know how many elements the user is going to add\n",
    "\n",
    "```python\n",
    "points = []\n",
    "while True:\n",
    "    user_input = input('enter a point (x, y)')\n",
    "    if not user_input:\n",
    "        break\n",
    "    points.append(user_input)\n",
    "print(points)\n",
    "```"
   ]
  },
  {
   "cell_type": "code",
   "execution_count": null,
   "metadata": {},
   "outputs": [],
   "source": [
    "points = []\n",
    "while True:\n",
    "    user_input = input('enter a point (x, y)')\n",
    "    if not user_input:\n",
    "        break\n",
    "    points.append(user_input)\n",
    "print(points)"
   ]
  },
  {
   "cell_type": "markdown",
   "metadata": {},
   "source": [
    "## <font color='red'>Debugging:</font> ipdb library (pip install ipdb)\n",
    "### learning resources:\n",
    "- https://docs.python.org/3.6/library/pdb.html\n",
    "    - pdb and ipdb have the same interface and capabilities, ipdb is nicer with syntax highlighting, tab-completion etc.\n",
    "- https://pymotw.com/3/pdb/index.html"
   ]
  },
  {
   "cell_type": "code",
   "execution_count": null,
   "metadata": {},
   "outputs": [],
   "source": [
    "x = {1, 1, 2, 1, 2, 3, 4}\n",
    "y = {1, 1, 3, 5, 7, 3, 4}\n",
    "print(y.difference(x))"
   ]
  },
  {
   "cell_type": "code",
   "execution_count": null,
   "metadata": {},
   "outputs": [],
   "source": [
    "x = [1, 2, 3, 4]\n",
    "x[0] = 99\n",
    "x_tuple = (1, 2, 3, 4)\n",
    "x_tuple[0] = 99\n",
    "print(x)\n",
    "print(x_tuple)"
   ]
  },
  {
   "cell_type": "code",
   "execution_count": null,
   "metadata": {},
   "outputs": [],
   "source": [
    "x = {('a', 'b'): 10, \n",
    "     ('c', 'd'): 20}\n",
    "pprint.pprint(x)"
   ]
  },
  {
   "cell_type": "markdown",
   "metadata": {},
   "source": [
    "## <font color='blue'>Some more data structures and resources to read up on:</font>\n",
    "- **sets**\n",
    "- **tuples**\n",
    "- collections library"
   ]
  },
  {
   "cell_type": "markdown",
   "metadata": {},
   "source": [
    "```python\n",
    "#aa_masses = {'A': 71.03711360, 'C': 103.0091854, 'D': 115.0269428,\n",
    "#             'E': 129.0425928, 'F': 147.0684136, 'G': 57.02146360,\n",
    "#             'H': 137.0589116, 'I': 113.0840636, 'K': 128.0949626,\n",
    "#             'L': 113.0840636, 'M': 131.0404854, 'N': 114.0429272,\n",
    "#             'P': 97.05276360, 'Q': 128.0585772, 'R': 156.1011106,\n",
    "#             'S': 87.03202820, 'T': 101.0476782, 'V': 99.06841360,\n",
    "#             'W': 186.0793126, 'Y': 163.0633282}\n",
    "\n",
    "#mass_h2o = 18.010564684\n",
    "```"
   ]
  },
  {
   "cell_type": "code",
   "execution_count": null,
   "metadata": {},
   "outputs": [],
   "source": []
  }
 ],
 "metadata": {
  "anaconda-cloud": {},
  "kernelspec": {
   "display_name": "Python 3",
   "language": "python",
   "name": "python3"
  },
  "language_info": {
   "codemirror_mode": {
    "name": "ipython",
    "version": 3
   },
   "file_extension": ".py",
   "mimetype": "text/x-python",
   "name": "python",
   "nbconvert_exporter": "python",
   "pygments_lexer": "ipython3",
   "version": "3.7.3"
  }
 },
 "nbformat": 4,
 "nbformat_minor": 4
}
