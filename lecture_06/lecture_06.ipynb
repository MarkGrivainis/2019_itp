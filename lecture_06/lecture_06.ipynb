{
 "cells": [
  {
   "cell_type": "code",
   "execution_count": null,
   "metadata": {},
   "outputs": [],
   "source": []
  },
  {
   "cell_type": "markdown",
   "metadata": {},
   "source": [
    "# Introduction to Python - Lecture 06 (25 July 2019)\n",
    "\n",
    "### Agenda for today:\n",
    "- Recap\n",
    "- While loops\n",
    "---"
   ]
  },
  {
   "cell_type": "markdown",
   "metadata": {},
   "source": [
    "## Conda\n",
    "\n",
    "Questions:\n",
    "+ What is conda?\n",
    "+ Why is it useful?\n",
    "+ How do you create a new environment?\n",
    "+ How do you activate an environment?"
   ]
  },
  {
   "cell_type": "markdown",
   "metadata": {},
   "source": [
    "## Git\n",
    "\n",
    "Questions:\n",
    "+ What is git?\n",
    "+ How do you initialize a repository?\n",
    "  + What does this mean?\n",
    "+ What are the steps to creating a commit?\n",
    "+ How are new changes from a remote repository applied?\n",
    "+ What are branches?\n",
    "+ What is the relationship between git and GitHub?"
   ]
  },
  {
   "cell_type": "markdown",
   "metadata": {},
   "source": [
    "# Python\n",
    "## Types\n",
    "\n",
    "Questions:\n",
    "+ What are the four primitive types in python?\n",
    "+ What operators are available for each type?\n",
    "+ How do we find the available methods for each type?"
   ]
  },
  {
   "cell_type": "code",
   "execution_count": null,
   "metadata": {},
   "outputs": [],
   "source": [
    "1\n",
    "1.0\n",
    "True\n",
    "'text'\n",
    "\n",
    "# ints and floats\n",
    "a = 1\n",
    "b = 2\n",
    "a + b\n",
    "a - b\n",
    "a / b\n",
    "a //b\n",
    "a * b\n",
    "a ** b\n",
    "\n",
    "# strings\n",
    "a = 'a'\n",
    "b = 'a'\n",
    "a + b\n",
    "a * 5"
   ]
  },
  {
   "cell_type": "code",
   "execution_count": 6,
   "metadata": {},
   "outputs": [
    {
     "data": {
      "text/plain": [
       "0"
      ]
     },
     "execution_count": 6,
     "metadata": {},
     "output_type": "execute_result"
    }
   ],
   "source": [
    "False + 0"
   ]
  },
  {
   "cell_type": "code",
   "execution_count": null,
   "metadata": {},
   "outputs": [],
   "source": []
  },
  {
   "cell_type": "markdown",
   "metadata": {},
   "source": [
    "## Boolean Expressions\n",
    "\n",
    "Questions:\n",
    "+ What are the two boolean values?\n",
    "+ What would their corresponding representations be for each of the primitive types?\n",
    "+ What are the three boolean operators?\n",
    "+ What would the set theory equivalents be?\n",
    "\n",
    "![](https://www.onlinemathlearning.com/image-files/xvenn-diagrams.png.pagespeed.ic.3sq92Rf-xD.webp)"
   ]
  },
  {
   "cell_type": "code",
   "execution_count": null,
   "metadata": {},
   "outputs": [],
   "source": []
  },
  {
   "cell_type": "markdown",
   "metadata": {},
   "source": [
    "## Controll Flow\n",
    "\n",
    "Questions:\n",
    "+ What are the three controll flow statements?\n",
    "+ What is the difference between the following examples?\n",
    "```python\n",
    "a = 5\n",
    "b = 6\n",
    "if a > b:\n",
    "    print('\"a\" is bigger')\n",
    "elif b > a:\n",
    "    print('\"b\" is bigger')\n",
    "elif a % 2 == 0:\n",
    "    print('\"a\" is even')\n",
    "elif b % 2 == 0:\n",
    "    print('\"b\" is even')\n",
    "```\n",
    "---\n",
    "```python\n",
    "a = 5\n",
    "b = 6\n",
    "if a > b:\n",
    "    print('\"a\" is bigger')\n",
    "if b > a:\n",
    "    print('\"b\" is bigger')\n",
    "if a % 2 == 0:\n",
    "    print('\"a\" is even')\n",
    "if b % 2 == 0:\n",
    "    print('\"b\" is even')\n",
    "```"
   ]
  },
  {
   "cell_type": "code",
   "execution_count": 9,
   "metadata": {},
   "outputs": [
    {
     "name": "stdout",
     "output_type": "stream",
     "text": [
      "\"b\" is bigger\n",
      "\"b\" is even\n"
     ]
    }
   ],
   "source": [
    "a = 5\n",
    "b = 6\n",
    "if a > b:\n",
    "    print('\"a\" is bigger')\n",
    "if b > a:\n",
    "    print('\"b\" is bigger')\n",
    "if a % 2 == 0:\n",
    "    print('\"a\" is even')\n",
    "if b % 2 == 0:\n",
    "    print('\"b\" is even')"
   ]
  },
  {
   "cell_type": "markdown",
   "metadata": {},
   "source": [
    "## Lists\n",
    "\n",
    "Questions:\n",
    "+ What are lists?\n",
    "+ How are lists indexed\n",
    "+ Given this list how would I access 'X'\n",
    "```python\n",
    "lst = ['O', 'X', 'O']\n",
    "```\n",
    "+ Given this list how would I access 'X'\n",
    "```python\n",
    "lst = [\n",
    "    ['O', 'O', 'O'],\n",
    "    ['O', 'X', 'O'],\n",
    "    ['O', 'O', 'O']\n",
    "]\n",
    "```\n",
    "+ When indexing, what do the three values you can use mean [x:y:z]\n",
    "+ Given this code, what is output and its type?\n",
    "```python\n",
    "lst = ['A', 'B', 'C', 'D']\n",
    "lst[1:3]\n",
    "```\n",
    "+ The following code outputs **['F', 'E', 'D']**, what does each bracket do to the lst?\n",
    "```python\n",
    "lst = [\n",
    "    ['A', 'B', 'C'],\n",
    "    ['D', 'E', 'F'],\n",
    "    ['G', 'H', 'I']\n",
    "]\n",
    "lst[:2][::-1][0][::-1]\n",
    "#   __  ____  _  ____\n",
    "#   1    2    3   4\n",
    "```\n",
    "+ Why is order important to lists?\n",
    "+ What makes tuples different from lists?\n",
    "+ Trick question, what does this output? why does that happen?\n",
    "```python\n",
    "lst = [['O', 'X', 'O']]*3\n",
    "lst[0][1] = 'O'\n",
    "lst\n",
    "```\n",
    "+ What do you think the following code does?\n",
    "```python\n",
    "a = [x for x in range(10)]\n",
    "a\n",
    "```"
   ]
  },
  {
   "cell_type": "code",
   "execution_count": 22,
   "metadata": {},
   "outputs": [
    {
     "data": {
      "text/plain": [
       "[[0, 1, 2, 3, 4, 5, 6, 7, 8, 9],\n",
       " [0, 1, 2, 3, 4, 5, 6, 7, 8, 9],\n",
       " [0, 1, 2, 3, 4, 5, 6, 7, 8, 9]]"
      ]
     },
     "execution_count": 22,
     "metadata": {},
     "output_type": "execute_result"
    }
   ],
   "source": [
    "a = [[x for x in range(10)] for y in range(3)]\n",
    "a"
   ]
  },
  {
   "cell_type": "markdown",
   "metadata": {},
   "source": [
    "## Dictionaries\n",
    "\n",
    "Questions:\n",
    "+ What are dictionaries?\n",
    "+ What does {'a': 1}.keys() return\n",
    "+ What does {'a': 1}.values() return\n",
    "+ What does {'a': 1}.items() return\n",
    "+ What happens a key is looked up that does not exist in the dictionary?\n",
    "+ what happens when a value is assigned to an existing key?\n",
    "+ What is the difference between the following code snippets\n",
    "```python\n",
    "char_map = {chr(x): x for x in range(97, 123)}\n",
    "for c in char_map.keys():\n",
    "    print(c)\n",
    "```\n",
    "---\n",
    "```python\n",
    "char_map = {chr(x): x for x in range(97, 123)}\n",
    "for c in char_map:\n",
    "    print(c)\n",
    "```\n",
    "+ What values will **a** and **b** hold in the following code?\n",
    "```python\n",
    "for a, b in char_map.items():\n",
    "    pass\n",
    "```"
   ]
  },
  {
   "cell_type": "code",
   "execution_count": 32,
   "metadata": {},
   "outputs": [],
   "source": [
    "# char_map = {chr(x): x for x in range(97, 123)}\n",
    "# for idx, (k, v) in enumerate(char_map.items()):\n",
    "#     print(idx, k, v)"
   ]
  },
  {
   "cell_type": "code",
   "execution_count": 29,
   "metadata": {},
   "outputs": [
    {
     "name": "stdout",
     "output_type": "stream",
     "text": [
      "0 a\n",
      "1 b\n",
      "2 c\n",
      "3 d\n"
     ]
    }
   ],
   "source": [
    "a = ['a', 'b', 'c', 'd']\n",
    "# list(enumerate(a))\n",
    "for idx, v in enumerate(a):\n",
    "    print(idx, v)"
   ]
  },
  {
   "cell_type": "markdown",
   "metadata": {},
   "source": [
    "## For loops\n",
    "\n",
    "Questions:\n",
    "+ What are for loops used for?\n",
    "  + What do you need to know to construct a for loop?\n",
    "+ What is the relationship between list dimensions and for loops?\n",
    "+ How can we extract subsets of a 2d list?\n",
    "```python\n",
    "lst = [\n",
    "    [ 1,  2,  3,  4,  5],\n",
    "    [ 6,  7,  8,  9, 10],\n",
    "    [11, 12, 13, 14, 15],\n",
    "    [16, 17, 18, 19, 20],\n",
    "    [21, 22, 23, 24, 25]\n",
    "]\n",
    "# 1) Extract\n",
    "#     [ 6,  7,  8,  9,  10]\n",
    "#     --------------------\n",
    "# 2) Extract\n",
    "#     [1, 6, 11, 16, 21]\n",
    "#     --------------------\n",
    "# 3) Extract\n",
    "#     [\n",
    "#         [ 4],\n",
    "#         [ 9],\n",
    "#         [14],\n",
    "#         [19],\n",
    "#         [24]\n",
    "#     ]\n",
    "# ---------------------\n",
    "# 4) Extract\n",
    "#     [\n",
    "#         [3, 4, 5],\n",
    "#         [8, 9, 10],\n",
    "#     ]\n",
    "# ---------------------\n",
    "# 5) Extract\n",
    "#     [\n",
    "#        [ 1,  3,  5],\n",
    "#        [11, 13, 15],\n",
    "#        [21, 23, 25]\n",
    "#     ]\n",
    "\n",
    "```"
   ]
  },
  {
   "cell_type": "code",
   "execution_count": 46,
   "metadata": {},
   "outputs": [
    {
     "data": {
      "text/plain": [
       "[[1, 4, 9, 16, 25],\n",
       " [36, 49, 64, 81, 100],\n",
       " [121, 144, 169, 196, 225],\n",
       " [256, 289, 324, 361, 400],\n",
       " [441, 484, 529, 576, 625]]"
      ]
     },
     "execution_count": 46,
     "metadata": {},
     "output_type": "execute_result"
    }
   ],
   "source": [
    "lst = [\n",
    "  [ 1,  2,  3,  4,  5],\n",
    "  [ 6,  7,  8,  9, 10],\n",
    "  [11, 12, 13, 14, 15],\n",
    "  [16, 17, 18, 19, 20],\n",
    "  [21, 22, 23, 24, 25]\n",
    "]\n",
    "\n",
    "# tmp =[[i**2 for i in row] for row in lst]\n",
    "tmp = []\n",
    "for row in lst:\n",
    "    tmp_row = []\n",
    "    for col in row:\n",
    "        tmp_row.append(col**2)\n",
    "    tmp.append(tmp_row)\n",
    "\n",
    "tmp"
   ]
  },
  {
   "cell_type": "code",
   "execution_count": null,
   "metadata": {},
   "outputs": [],
   "source": [
    "# Extract\n",
    "#     [ 6,  7,  8,  9,  10]\n",
    "# lst[1]\n",
    "# Extract\n",
    "#     [1, 6, 11, 16, 21]\n",
    "# tmp = [row[0] for row in lst] \n",
    "# tmp = []\n",
    "# for row in lst:\n",
    "#     tmp.append(row[0])\n",
    "# tmp\n",
    "# Extract\n",
    "#     [\n",
    "#         [ 4],\n",
    "#         [ 9],\n",
    "#         [14],\n",
    "#         [19],\n",
    "#         [24]\n",
    "#     ]\n",
    "# tmp = []\n",
    "# for row in lst:\n",
    "#     tmp.append(row[3:4])\n",
    "# tmp\n",
    "\n",
    "# Extract\n",
    "#     [\n",
    "#         [3, 4, 5],\n",
    "#         [8, 9, 10],\n",
    "#     ]\n",
    "\n",
    "# tmp = []\n",
    "# for row in lst[:2]:\n",
    "#     tmp.append(row[2:5])\n",
    "# tmp\n",
    "# 5) Extract\n",
    "#     [\n",
    "#        [ 1,  3,  5],\n",
    "#        [11, 13, 15],\n",
    "#        [21, 23, 25]\n",
    "#     ]\n",
    "# tmp = []\n",
    "# for row in lst[::2]:\n",
    "#     tmp.append(row[::2])\n",
    "# tmp"
   ]
  },
  {
   "cell_type": "markdown",
   "metadata": {},
   "source": [
    "## Lets work with some real data\n",
    "\n",
    "https://gbfs.citibikenyc.com/gbfs/en/station_information.json"
   ]
  },
  {
   "cell_type": "code",
   "execution_count": 47,
   "metadata": {},
   "outputs": [
    {
     "name": "stdout",
     "output_type": "stream",
     "text": [
      "<class 'dict'>\n"
     ]
    }
   ],
   "source": [
    "import urllib\n",
    "import json\n",
    "\n",
    "url_stations = 'https://gbfs.citibikenyc.com/gbfs/en/station_information.json'\n",
    "url_status = 'https://gbfs.citibikenyc.com/gbfs/en/station_status.json'\n",
    "f = urllib.request.urlopen(url_stations)\n",
    "data = json.load(f)\n",
    "print(type(data))"
   ]
  },
  {
   "cell_type": "code",
   "execution_count": 53,
   "metadata": {},
   "outputs": [],
   "source": [
    "from pprint import pprint\n",
    "# import pprint\n",
    "# pprint.pprint"
   ]
  },
  {
   "cell_type": "code",
   "execution_count": 56,
   "metadata": {},
   "outputs": [
    {
     "name": "stdout",
     "output_type": "stream",
     "text": [
      "26369\n"
     ]
    }
   ],
   "source": [
    "total_capacity = 0\n",
    "for entry in data['data']['stations']:\n",
    "    total_capacity += entry['capacity']\n",
    "#     break\n",
    "print(total_capacity)"
   ]
  },
  {
   "cell_type": "code",
   "execution_count": 63,
   "metadata": {},
   "outputs": [],
   "source": [
    "lat_long = []\n",
    "for entry in data['data']['stations']:\n",
    "    tmp = (entry['lat'] , entry['lon'])\n",
    "    lat_long.append(tmp)\n",
    "#     pprint(entry)\n",
    "#     break\n",
    "# print(lat_long)"
   ]
  },
  {
   "cell_type": "code",
   "execution_count": 64,
   "metadata": {},
   "outputs": [
    {
     "name": "stdout",
     "output_type": "stream",
     "text": [
      "<class 'dict'>\n"
     ]
    }
   ],
   "source": [
    "import urllib\n",
    "import json\n",
    "\n",
    "url_stations = 'https://gbfs.citibikenyc.com/gbfs/en/station_information.json'\n",
    "url_status = 'https://gbfs.citibikenyc.com/gbfs/en/station_status.json'\n",
    "f = urllib.request.urlopen(url_status)\n",
    "data = json.load(f)\n",
    "print(type(data))"
   ]
  },
  {
   "cell_type": "code",
   "execution_count": 74,
   "metadata": {},
   "outputs": [
    {
     "name": "stdout",
     "output_type": "stream",
     "text": [
      "612\n"
     ]
    }
   ],
   "source": [
    "disabled_bikes = 0\n",
    "for entry in data['data']['stations']:\n",
    "    disabled_bikes += entry['num_bikes_disabled']\n",
    "#     break\n",
    "print(disabled_bikes)"
   ]
  },
  {
   "cell_type": "markdown",
   "metadata": {},
   "source": [
    "### Example\n",
    "Common pattern: **Aggregate** and **summarize**\n",
    "+ Say, we have a long list of numbers\n",
    "+ [0,1,1,3,1,3,6,1,8,2,8,7,5,0,2,2,1,5,4,7,0,0,3,1,2,9,9,4,3,2,5,3,1,2,1,3,3,2,2,4,5,1,6,7,9,8,1,4,2,5,6,8,0,0,0,1,1,2,6,1,3,2,4,2,5,7,3,1,3,4,6]\n",
    "+ Count the number of times each number appears (and may be rank-order them according to frequency)\n",
    "+ Thought Process?"
   ]
  },
  {
   "cell_type": "code",
   "execution_count": null,
   "metadata": {},
   "outputs": [],
   "source": []
  },
  {
   "cell_type": "code",
   "execution_count": null,
   "metadata": {},
   "outputs": [],
   "source": [
    "# Using Standard Dictionary\n",
    "if key in d:\n",
    "    d[key] += 1\n",
    "else:\n",
    "    d[key] = 1"
   ]
  },
  {
   "cell_type": "code",
   "execution_count": null,
   "metadata": {},
   "outputs": [],
   "source": [
    "# Using Standard Dictionary with get\n",
    "d[key] = d[key].get(key, 0) + 1"
   ]
  },
  {
   "cell_type": "code",
   "execution_count": null,
   "metadata": {},
   "outputs": [],
   "source": [
    "from collections import defaultdict\n",
    "# Using defaultdict\n",
    "lst = [0,1,1,3,1,3,6,1,8,2,8,7,5,0,2,2,1,5,4,7,0,0,3,1,2,9,9,4,3,2,5,3,1,2,1,3,3,2,2,4,5,1,6,7,9,8,1,4,2,5,6,8,0,0,0,1,1,2,6,1,3,2,4,2,5,7,3,1,3,4,6]\n",
    "counts = defaultdict(int)\n",
    "for num in lst:\n",
    "    defaultdict[num] += 1"
   ]
  },
  {
   "cell_type": "code",
   "execution_count": null,
   "metadata": {},
   "outputs": [],
   "source": [
    "# Using Counter"
   ]
  },
  {
   "cell_type": "markdown",
   "metadata": {},
   "source": [
    "## Control Flow \n",
    "### *<font color='blue'>break</font>* keyword\n",
    "+ to **stop** the current loop from running any further (**break out of the loop**)\n",
    "\n",
    "```python\n",
    "print('\\nbreak statement')\n",
    "numbers = [1, 3, 5, 6, 9, 10]\n",
    "for number in numbers:\n",
    "    if number % 2 == 0:\n",
    "        break\n",
    "    print(number)\n",
    "```\n",
    "\n",
    "### *<font color='blue'>continue</font>* keyword\n",
    "+ to **skip** over the current iteration in current loop (**continue without completing current iteration**)\n",
    "\n",
    "```python\n",
    "print('\\ncontinue statement')\n",
    "numbers = [1, 3, 5, 6, 9, 10]\n",
    "for number in numbers:\n",
    "    if number % 2 == 0:\n",
    "        continue\n",
    "    print(number)\n",
    "```"
   ]
  },
  {
   "cell_type": "code",
   "execution_count": null,
   "metadata": {},
   "outputs": [],
   "source": []
  },
  {
   "cell_type": "markdown",
   "metadata": {},
   "source": [
    "### *<font color='blue'>break</font>* keyword and *<font color='blue'>continue</font>* keyword statements operate on the immediate enclosing for loop\n",
    "\n",
    "```python\n",
    "# Generate all possible pairs, but skip some of them\n",
    "print('\\nbreak statement')\n",
    "letters = ['a', 'b', 'c']\n",
    "numbers = [5, 7, 9, 10, 15]\n",
    "for char in letters:            # outer loop\n",
    "   for number in numbers:       # inner loop; enumerate gives (index, value) tuples (see help)\n",
    "       if number % 2 == 0:\n",
    "           break\n",
    "       print(char, number)\n",
    "\n",
    "###########################\n",
    "\n",
    "print('\\ncontinue statement')\n",
    "letters = ['a', 'b', 'c']\n",
    "numbers = [5, 7, 9, 10, 15]\n",
    "for char in letters:\n",
    "   for number in numbers:\n",
    "       if number % 2 == 0:\n",
    "           continue\n",
    "       print(char, number)\n",
    "```"
   ]
  },
  {
   "cell_type": "code",
   "execution_count": null,
   "metadata": {},
   "outputs": [],
   "source": []
  },
  {
   "cell_type": "markdown",
   "metadata": {},
   "source": [
    "# <font color='blue'>While loops</font>\n",
    "\n",
    "+ Basic format:\n",
    "```python\n",
    "while BOOLEAN_EXPRESSION:\n",
    "    STATEMENTS\n",
    "```\n",
    "\n",
    "+ The loop will continue while the boolean expression remains true.\n",
    "+ Once the boolean expression is false the loop will exit\n",
    "\n",
    "```python\n",
    "count = 0\n",
    "while count < 5:\n",
    "    print('current count: {}'.format(count))\n",
    "    count += 1\n",
    "print('final count: {}'.format(count))\n",
    "```"
   ]
  },
  {
   "cell_type": "code",
   "execution_count": 77,
   "metadata": {},
   "outputs": [
    {
     "name": "stdout",
     "output_type": "stream",
     "text": [
      "current count: 0\n",
      "current count: 1\n",
      "current count: 2\n",
      "current count: 3\n",
      "current count: 4\n",
      "final count: 5\n"
     ]
    }
   ],
   "source": [
    "count = 0\n",
    "while count < 5:\n",
    "    print('current count: {}'.format(count))\n",
    "    count += 1\n",
    "print('final count: {}'.format(count))"
   ]
  },
  {
   "cell_type": "markdown",
   "metadata": {},
   "source": [
    "## Why have two kinds of looping?\n",
    "\n",
    "+ for loops\n",
    "    + require knowledge on the number of iterations when declaring the loop\n",
    "+ while loops\n",
    "    + Will loop until a condition is met\n",
    "    \n",
    "Example:\n",
    "\n",
    "+ Find the largest number in a list of numbers?\n",
    "    + for loop\n",
    "+ Run a simulation until a certain mean squared error is achieved\n",
    "    + while loop"
   ]
  },
  {
   "cell_type": "markdown",
   "metadata": {},
   "source": [
    "## Infinite loops\n",
    "\n",
    "+ It is possible to create while loops that will never stop.\n",
    "    + These types of loops are known as infinite loops\n",
    "    + This happens only if the loop condition always remain true<br>  \n",
    "**Note:** when on cmd-line / Terminal, use Ctrl+C to break out of an infinite loop to stop the program. In jupyter notebook, use the square \"stop\" button on top to stop execution of a running cell.\n",
    "\n",
    "```python\n",
    "i = 0\n",
    "while i < 5:\n",
    "    print(i)\n",
    "```"
   ]
  },
  {
   "cell_type": "code",
   "execution_count": null,
   "metadata": {},
   "outputs": [],
   "source": []
  },
  {
   "cell_type": "markdown",
   "metadata": {},
   "source": [
    "## While True\n",
    "\n",
    "+ This pattern is useful as it will ensure that the code in the while loop is run at least once\n",
    "+ There will always need to be a condition to break out of the loop\n",
    "\n",
    "**Pattern:**\n",
    "\n",
    "```python\n",
    "while True:\n",
    "    statements\n",
    "    if condition:\n",
    "        break\n",
    "```\n",
    "\n",
    "+ This is useful, for example, for getting user input when you do not know how many elements the user is going to add\n",
    "\n",
    "```python\n",
    "points = []\n",
    "while True:\n",
    "    user_input = input('enter a point (x, y)')\n",
    "    if not user_input:\n",
    "        break\n",
    "    points.append(user_input)\n",
    "print(points)\n",
    "```"
   ]
  },
  {
   "cell_type": "code",
   "execution_count": 79,
   "metadata": {},
   "outputs": [
    {
     "name": "stdin",
     "output_type": "stream",
     "text": [
      "enter a point (x, y) 5, 10\n",
      "enter a point (x, y) 10, 20\n",
      "enter a point (x, y) \n"
     ]
    },
    {
     "name": "stdout",
     "output_type": "stream",
     "text": [
      "['5, 10', '10, 20', '']\n"
     ]
    }
   ],
   "source": [
    "points = []\n",
    "while True:\n",
    "    user_input = input('enter a point (x, y)')\n",
    "    points.append(user_input)\n",
    "    if not user_input:\n",
    "        break\n",
    "    \n",
    "print(points)"
   ]
  }
 ],
 "metadata": {
  "kernelspec": {
   "display_name": "Python 3",
   "language": "python",
   "name": "python3"
  },
  "language_info": {
   "codemirror_mode": {
    "name": "ipython",
    "version": 3
   },
   "file_extension": ".py",
   "mimetype": "text/x-python",
   "name": "python",
   "nbconvert_exporter": "python",
   "pygments_lexer": "ipython3",
   "version": "3.7.3"
  }
 },
 "nbformat": 4,
 "nbformat_minor": 4
}
