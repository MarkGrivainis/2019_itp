{
 "cells": [
  {
   "cell_type": "markdown",
   "metadata": {},
   "source": [
    "# Git / GitHub\n",
    "\n",
    "Goals for today:\n",
    " + Create a new repository on GitHub and link it locally\n",
    " + Create a calculator using version control\n",
    " + Compare methods of undoing changes which have been committed\n",
    " \n",
    "## Set up a repository on GitHub\n",
    "1. Go to GitHub and click \"new\" on the left next to repositories\n",
    "\n",
    "![alt text](GitHub_Create_Repo.png \"Title\")"
   ]
  },
  {
   "cell_type": "markdown",
   "metadata": {},
   "source": [
    "## Set up your local git repo and link it to GitHub using the provided instructions\n",
    "1. mkdir ~/Desktop/calculator; cd ~/Desktop/calculator\n",
    "2. echo \"# Calculator\" >> README.md\n",
    "3. git init\n",
    "4. git add README.md\n",
    "5. git commit -m \"first commit\"\n",
    "6. git remote add origin url\n",
    "7. git push -u origin master"
   ]
  },
  {
   "cell_type": "markdown",
   "metadata": {},
   "source": [
    "## Lets create a calculator program\n",
    "\n",
    "1. Open Atom\n",
    "2. Open a new file\n",
    "3. Add Calculator Code\n",
    "4. Save the file as calculator.py\n",
    "5. run with python in the terminal / powershell\n",
    "```bash\n",
    "python path/to/calculator.py\n",
    "```"
   ]
  },
  {
   "cell_type": "markdown",
   "metadata": {},
   "source": [
    "# **Git - Resetting, Checking Out & Reverting**\n",
    "\n",
    "SOURCE: \"https://www.atlassian.com/git/tutorials/resetting-checking-out-and-reverting\"\n",
    "\n",
    "### The three trees in git\n",
    "<img src=\"https://wac-cdn.atlassian.com/dam/jcr:0c5257d5-ff01-4014-af12-faf2aec53cc3/01.svg?cdnVersion=466\" alt=\"Drawing\" style=\"width: 50%;\"/>\n",
    "\n",
    "There are three methods to undo commits:\n",
    "  + git reset\n",
    "  + git checkout\n",
    "  + get revert\n",
    "  \n",
    "reset & checkout are used to make local changes before commits have been pushed.\n",
    "\n",
    "revert is used to make changes to commits once they are public.\n",
    "\n",
    "### Reset\n",
    "\n",
    "Used to throw away changes.\n",
    "\n",
    "There are three options when using git reset\n",
    "+ --soft – The staged snapshot and working directory are not altered in any way.\n",
    "+ --mixed – The staged snapshot is updated to match the specified commit, but the working directory is not affected. This is the default option.\n",
    "+ --hard – The staged snapshot and the working directory are both updated to match the specified commit.\n",
    "\n",
    "Code used in the following images\n",
    "```bash\n",
    "git checkout hotfix\n",
    "git reset HEAD~2\n",
    "```\n",
    "\n",
    "<img src=\"https://wac-cdn.atlassian.com/dam/jcr:4c7d368e-6e40-4f82-a315-1ed11316cf8b/02-updated.png?cdnVersion=466\" alt=\"Drawing\" style=\"width: 50%;\"/>\n"
   ]
  },
  {
   "cell_type": "markdown",
   "metadata": {},
   "source": [
    "## Checkout\n",
    "\n",
    "This should be used to view old code, not to make changes.\n",
    "\n",
    "```bash\n",
    "git checkout hotfix\n",
    "```\n",
    "\n",
    "<img src=\"https://wac-cdn.atlassian.com/dam/jcr:607f1b83-ee7d-494a-b7e2-338d810059fb/04-updated.png?cdnVersion=466\" alt=\"Drawing\" style=\"width: 50%;\"/>\n",
    "\n",
    "```bash\n",
    "git checkout HEAD~2\n",
    "```\n",
    "\n",
    "<img src=\"https://wac-cdn.atlassian.com/dam/jcr:3034be0a-fc7b-4c64-b9cd-3ebc8abf3833/05.svg?cdnVersion=466\" alt=\"Drawing\" style=\"width: 50%;\"/>\n"
   ]
  },
  {
   "cell_type": "markdown",
   "metadata": {},
   "source": [
    "## Revert\n",
    "\n",
    "Use this to make changes to commits that have been pushed upstream to GitHub.\n",
    "\n",
    "This command does not remove any commits, it makes a new commit containing old changes.\n",
    "```bash\n",
    "git checkout hotfix\n",
    "git revert HEAD~2\n",
    "```\n",
    "\n",
    "<img src=\"https://wac-cdn.atlassian.com/dam/jcr:73d36b14-72a7-4e96-a5bf-b86629d2deeb/06.svg?cdnVersion=466\" alt=\"Drawing\" style=\"width: 50%;\"/>\n",
    "\n",
    "\n",
    "\n",
    "### Git reset and checkout can also be used on individual files instead of commits"
   ]
  }
 ],
 "metadata": {
  "kernelspec": {
   "display_name": "Python 3",
   "language": "python",
   "name": "python3"
  },
  "language_info": {
   "codemirror_mode": {
    "name": "ipython",
    "version": 3
   },
   "file_extension": ".py",
   "mimetype": "text/x-python",
   "name": "python",
   "nbconvert_exporter": "python",
   "pygments_lexer": "ipython3",
   "version": "3.7.3"
  }
 },
 "nbformat": 4,
 "nbformat_minor": 4
}
